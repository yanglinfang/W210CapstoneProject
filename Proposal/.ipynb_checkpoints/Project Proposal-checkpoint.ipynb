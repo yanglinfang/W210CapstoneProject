{
 "cells": [
  {
   "cell_type": "markdown",
   "metadata": {},
   "source": [
    "# Capstone Project proposal\n",
    "## Data mining/trading platform that leverages social media and individual at the location of data source. \n",
    "\n",
    "## Introduction \n",
    "Nowadays, collecting data with certain quality grade is increasingly important, just like mining oil in the 1800s and 1900s. There is no existing data collection and trading market or platform for general kind of data available yet. There are some centralized platform and tools for certain domain such as iNaturalist (open source app that allows anyone to collect sighting of animal or plant) and GBIF (Global Biodiversity Information Facility) for bio-diversity data. \n",
    "\n",
    "Take bio diversity data for example, it is often expensive to send researchers onsite to collect data themselves. It is more reasonable to have a pipeline from data collector (no education, on site collecting data), to data cleaner (takes data from previous step, apply tagging based on trained knowledge), and at the end, to the researcher(give final grade to the data collected). That will enable the researcher to focus on their expertise, which is to identify and grade the data at the very end. This will speed up their research work. \n",
    "\n",
    "## Project background\n",
    "A non-profit organization called Action for Cheetahs in Kenya (ACK) is experimenting this data collection pipeline for cheetah research in Kenya. They are using iNaturalist to collect data onsite by the rangers, and then researchers download data from iNaturalist and perform further analysis on them. To further enhance this pipeline, we can 1. enable more local residents located at cheetah habitats to collect data. For example, one onsite ranger can work with 5 local residents and teach them how to collect data as part of their daily routine; 2. mine through social media such as Flickr and Twitter to extract useful data about bio-diversity within the research area. \n",
    "\n",
    "So local residents in cheetah habitats can collect data about wildlife and environment such as sighting of wildlife, surveys about vegetation, counting of domestic livestock etc. And the data collected via iNaturalist is open to public download already. \n",
    "\n",
    "Due to the limitation of this project, we will be focusing on number 2, mine through social media data and see if it is feasible to use them to compliment existing research data. Research shows there is a high chance of social media data overlap with existing research data (see reference paper). \n",
    "\n",
    "The end result of this project is to have a visualization platform that can combine both data collected onsite, in this case downloaded from GBIF, and data from social media, and show the cheetah population/behavior change over time, in order to convey a vivid story about cheetah, which can then be used to advocate for future policy change in favor of conservation and sustainable development of local community. \n",
    "\n",
    "This data platform is not only limited to cheetah research, it can also be used to collect information such as status of vegetation, especially grassland coverage status which is critical for local residents who rely on goats and and cows to make a living. Being able to maintain sustainable livestock farming is a life threatening issue for local community in some areas in Kenya currently.  \n",
    "\n",
    "## Problem to solve\n",
    "Enable people living in remote areas to take advantage of the data they have access to, in this case data about wildlife and vegetation. At the mean time, enable researchers to access bio-diversity data more efficiently.  \n",
    "\n",
    "## Challenge\n",
    "people in remote areas are often less well educated, or not at all educated, how to design a system that is easy to use, and have control over data quality is a hard challenge. \n",
    "\n",
    "How to mine social media data for related species images is relatively easy compared to the above. There are existing reverse image search tools for this.  \n",
    "\n",
    "## Further thoughts \n",
    "If proven success, this data collection pipeline/platform can bring tremendous benefit to local residents, as well as to data consumers, in this case the researchers. And this platform is easily scalable to other data collection tasks, such as restaurant seating and waiting data, hiking and biking data. Once the platform is established, it will create markets for data collection and trade, and eventually merge all kinds of data markets across different domains into one. That will greatly increase the efficiency of the society, and provide a way to make a living for the data collectors, who tend to be left behind with the current progress of technology. \n",
    "\n",
    "## Reference\n",
    "[GBIF bio-diversity data](https://www.gbif.org/)\n",
    "\n",
    "[iNaturalist](https://www.inaturalist.org/)\n",
    "\n",
    "[Mapping species distributions with social media geo-tagged images: Case studies of bees and flowering plants in Australia](http://www.sciencedirect.com/science/article/pii/S1574954116302321?via%3Dihub)\n",
    "\n",
    "[Reverse image search](https://www.lifewire.com/where-to-find-images-online-3482427)"
   ]
  },
  {
   "cell_type": "code",
   "execution_count": null,
   "metadata": {
    "collapsed": true
   },
   "outputs": [],
   "source": []
  }
 ],
 "metadata": {
  "anaconda-cloud": {},
  "kernelspec": {
   "display_name": "Python [default]",
   "language": "python",
   "name": "python2"
  },
  "language_info": {
   "codemirror_mode": {
    "name": "ipython",
    "version": 2
   },
   "file_extension": ".py",
   "mimetype": "text/x-python",
   "name": "python",
   "nbconvert_exporter": "python",
   "pygments_lexer": "ipython2",
   "version": "2.7.12"
  }
 },
 "nbformat": 4,
 "nbformat_minor": 1
}
