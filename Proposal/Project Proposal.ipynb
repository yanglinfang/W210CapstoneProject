{
 "cells": [
  {
   "cell_type": "markdown",
   "metadata": {},
   "source": [
    "# Project proposal\n",
    "## Enable people in remote areas to collect data in exchange for benefit or compensation. \n",
    "This is in collaboration with a nonprofit organization called Action for Cheetahs in Kenya, enabling local residents in cheetah habitats to collect data about wildlife and environment such as sighting of wildlife, surveys about vegetation, counting of domestic livestock etc. There is an existing opensource app called iNatralist https://www.inaturalist.org/ which is opensource app that’s used for this purpose. And the data collected is open to public download already. This project is to use the existing datasets, and potentially adding additional datasets, then make predictions about cheetah population trend in those areas, such as predicted to decline 2-3% per year, also identify the main contributor for the decline using ML model. \n",
    "\n",
    "## Problem to solve: \n",
    "enable people living in remote areas to make profit of the data they have access to, in this case data about wildlife, hence reduce human-wildlife conflict. \n",
    "\n",
    "## Challenge: \n",
    "people in remote areas are often not educated, how to design a system that is easy to use, and have control over data quality. \n",
    "Data sources: iNatralist app (open to public download) and may be other data sources. \n"
   ]
  },
  {
   "cell_type": "code",
   "execution_count": null,
   "metadata": {
    "collapsed": true
   },
   "outputs": [],
   "source": []
  }
 ],
 "metadata": {
  "kernelspec": {
   "display_name": "Python [default]",
   "language": "python",
   "name": "python2"
  },
  "language_info": {
   "codemirror_mode": {
    "name": "ipython",
    "version": 2
   },
   "file_extension": ".py",
   "mimetype": "text/x-python",
   "name": "python",
   "nbconvert_exporter": "python",
   "pygments_lexer": "ipython2",
   "version": "2.7.12"
  }
 },
 "nbformat": 4,
 "nbformat_minor": 1
}
