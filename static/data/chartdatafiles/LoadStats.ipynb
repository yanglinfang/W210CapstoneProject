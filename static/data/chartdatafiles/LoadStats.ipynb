{
 "cells": [
  {
   "cell_type": "code",
   "execution_count": 198,
   "metadata": {
    "collapsed": false
   },
   "outputs": [],
   "source": [
    "import csv\n",
    "import os.path \n",
    "import json \n",
    "import numpy as np\n",
    "import datetime\n",
    "\n",
    "import matplotlib.pyplot as plt\n",
    "import plotly\n",
    "import plotly.plotly as py\n",
    "from plotly.graph_objs import Scatter, Layout, Bar\n",
    "\n",
    "\n",
    "pathPrefix = ''\n",
    "prefix = pathPrefix + 'chart_cluster_data_'\n",
    "ending = '.csv'\n",
    "\n",
    "\n",
    "def loadStatsFromOneFile(clusterStr): \n",
    "    fName = ''\n",
    "    \n",
    "    if(len(clusterStr)==2) and ('x' not in clusterStr):\n",
    "        fName = prefix + clusterStr[0] +\"_\"+ clusterStr[1] + ending   \n",
    "    #print fName\n",
    "    \n",
    "    pub_year_dict = {}\n",
    "    appl_year_dict = {}\n",
    "    years_to_publish_dict = {}\n",
    "    \n",
    "    if(fName == ''):\n",
    "        return [pub_year_dict, appl_year_dict, years_to_publish_dict]\n",
    "    \n",
    "    with open(fName) as csvfile:\n",
    "        spamreader = csv.reader(csvfile, delimiter= ' ', quotechar='|')\n",
    "        rowCount = 0 \n",
    "        for row in spamreader:\n",
    "            rowCount += 1\n",
    "            jsonStr = str(row).replace(\"['\",'').replace(\"']\",'')\n",
    "            jsons = json.loads(jsonStr)\n",
    "            for j in jsons:  \n",
    "                if (rowCount == 1):\n",
    "                    if j['pub_year'] in pub_year_dict:\n",
    "                        pub_year_dict[j['pub_year']] += int(j['count'])\n",
    "                    else:\n",
    "                        pub_year_dict[j['pub_year']] = int(j['count'])\n",
    "\n",
    "                if (rowCount == 2):\n",
    "                    if j['appl_year'] in appl_year_dict:\n",
    "                        appl_year_dict[j['appl_year']] += int(j['count'])\n",
    "                    else:\n",
    "                        appl_year_dict[j['appl_year']] = int(j['count'])\n",
    "\n",
    "                if (rowCount == 3):\n",
    "                    if j['years_to_publish'] in years_to_publish_dict:\n",
    "                        years_to_publish_dict[j['years_to_publish']] += int(j['count'])\n",
    "                    else:\n",
    "                        years_to_publish_dict[j['years_to_publish']] = int(j['count'])\n",
    "\n",
    "    return [pub_year_dict, appl_year_dict, years_to_publish_dict]\n",
    "\n",
    "def mergeDicts(dict_full, dict_temp):\n",
    "    for k,v in dict_temp.items():\n",
    "        if k in dict_full:\n",
    "            dict_full[k] += v\n",
    "        else:\n",
    "            dict_full[k] = v\n",
    "            \n",
    "def loadStatsFromFiles(clusterStr): \n",
    "    clusters = ['0','1','2','3','4','5','6','7','8','9']\n",
    "    files = []\n",
    "    pub_year_dict = {}\n",
    "    appl_year_dict = {}\n",
    "    years_to_publish_dict = {}\n",
    "    \n",
    "    if clusterStr[0] == 'x':\n",
    "        for x in clusters: \n",
    "            if(clusterStr[1] == 'x'):\n",
    "                for xx in clusters:\n",
    "                    files.append(x+xx)\n",
    "            else:\n",
    "                files.append(x+clusterStr[1])\n",
    "    else:\n",
    "        if(clusterStr[1] == 'x'):\n",
    "            for xx in clusters:\n",
    "                files.append(clusterStr[0]+xx)\n",
    "        else:\n",
    "            files.append(clusterStr[0]+clusterStr[1])\n",
    "\n",
    "    for f in files: \n",
    "        temp = loadStatsFromFile(f)\n",
    "        mergeDicts(pub_year_dict, temp[0])\n",
    "        mergeDicts(appl_year_dict, temp[1])\n",
    "        mergeDicts(years_to_publish_dict, temp[2])\n",
    "\n",
    "    return [pub_year_dict, appl_year_dict, years_to_publish_dict]\n",
    "    \n",
    "    \n",
    "def plotDict(data_dict, yearlyData, fileName, offline):\n",
    "    py.sign_in('yanglinfang', 'F5jaY29GDfD8TIenMz9p')\n",
    "    date = plt.figure()\n",
    "    x = []\n",
    "    y = []\n",
    "    for k, v in data_dict.items():\n",
    "        if(yearlyData == True):\n",
    "            x.append(datetime.datetime(k, 1, 1))\n",
    "        else:\n",
    "            x.append(k)\n",
    "        y.append(v)\n",
    "        \n",
    "    layout = Layout(\n",
    "        title=fileName,\n",
    "        xaxis=dict(\n",
    "            autotick=True,\n",
    "            ticks='outside',\n",
    "            tickcolor='#000'\n",
    "        ),\n",
    "        yaxis=dict(\n",
    "            autotick=True,\n",
    "            ticks='outside',\n",
    "            tickcolor='#000'\n",
    "        )\n",
    "    )\n",
    "    \n",
    "    if(yearlyData == True):\n",
    "        layout.xaxis=dict(range=[datetime.datetime(2000, 1, 1), datetime.datetime(2018, 1, 1)]) \n",
    "    else:\n",
    "        layout.xaxis=dict(range=[0, 15])\n",
    "    \n",
    "    if offline == True: \n",
    "        plotly.offline.init_notebook_mode(connected=True)\n",
    "        plotly.offline.iplot({\n",
    "            \"data\": [Bar(x=x, y=y)],\n",
    "            \"layout\": layout\n",
    "        })\n",
    "    else:\n",
    "        print (\"only supporting offline for now\")\n",
    "\n",
    "def saveToCsv(clusterStr, data_dict, header):\n",
    "    fileToSave = prefix + clusterStr + '_' + header[0] + ending\n",
    "    if os.path.isfile(fileToSave) == False:\n",
    "        with open(fileToSave, 'w') as csvfile:\n",
    "            fieldnames = header\n",
    "            writer = csv.DictWriter(csvfile, fieldnames=fieldnames)\n",
    "            writer.writeheader()\n",
    "            for key in data_dict: \n",
    "                writer.writerow({header[0]: key, header[1]: data_dict[key]})\n",
    "    return fileToSave\n",
    "\n",
    "def saveStatsSummary(clusterStr):\n",
    "    [pub_year_dict, appl_year_dict, years_to_publish_dict] = loadStatsFromFiles(clusterStr)\n",
    "    f1 = saveToCsv(clusterStr, pub_year_dict, [\"pub_year\",\"count\"])\n",
    "    f2 = saveToCsv(clusterStr, appl_year_dict, [\"appl_year\",\"count\"])\n",
    "    f3 = saveToCsv(clusterStr, years_to_publish_dict, [\"years_to_publish\",\"count\"])\n",
    "    return [f1, f2, f3]"
   ]
  },
  {
   "cell_type": "code",
   "execution_count": 199,
   "metadata": {
    "collapsed": false
   },
   "outputs": [
    {
     "name": "stdout",
     "output_type": "stream",
     "text": [
      "chart_cluster_data_1_0.csv\n",
      "chart_cluster_data_1_1.csv\n",
      "chart_cluster_data_1_2.csv\n",
      "chart_cluster_data_1_3.csv\n",
      "chart_cluster_data_1_4.csv\n",
      "chart_cluster_data_1_5.csv\n",
      "chart_cluster_data_1_6.csv\n",
      "chart_cluster_data_1_7.csv\n",
      "chart_cluster_data_1_8.csv\n",
      "chart_cluster_data_1_9.csv\n"
     ]
    },
    {
     "data": {
      "text/plain": [
       "['chart_cluster_data_1x_pub_year.csv',\n",
       " 'chart_cluster_data_1x_appl_year.csv',\n",
       " 'chart_cluster_data_1x_years_to_publish.csv']"
      ]
     },
     "execution_count": 199,
     "metadata": {},
     "output_type": "execute_result"
    }
   ],
   "source": [
    "saveStatsSummary(\"1x\")"
   ]
  },
  {
   "cell_type": "code",
   "execution_count": 200,
   "metadata": {
    "collapsed": false
   },
   "outputs": [
    {
     "name": "stdout",
     "output_type": "stream",
     "text": [
      "chart_cluster_data_1_0.csv\n",
      "chart_cluster_data_1_1.csv\n",
      "chart_cluster_data_1_2.csv\n",
      "chart_cluster_data_1_3.csv\n",
      "chart_cluster_data_1_4.csv\n",
      "chart_cluster_data_1_5.csv\n",
      "chart_cluster_data_1_6.csv\n",
      "chart_cluster_data_1_7.csv\n",
      "chart_cluster_data_1_8.csv\n",
      "chart_cluster_data_1_9.csv\n"
     ]
    },
    {
     "data": {
      "text/html": [
       "<script>requirejs.config({paths: { 'plotly': ['https://cdn.plot.ly/plotly-latest.min']},});if(!window.Plotly) {{require(['plotly'],function(plotly) {window.Plotly=plotly;});}}</script>"
      ],
      "text/plain": [
       "<IPython.core.display.HTML object>"
      ]
     },
     "metadata": {},
     "output_type": "display_data"
    },
    {
     "data": {
      "text/html": [
       "<div id=\"ec3a2003-d031-4e8b-9c3d-77cca41e8c18\" style=\"height: 525px; width: 100%;\" class=\"plotly-graph-div\"></div><script type=\"text/javascript\">require([\"plotly\"], function(Plotly) { window.PLOTLYENV=window.PLOTLYENV || {};window.PLOTLYENV.BASE_URL=\"https://plot.ly\";Plotly.newPlot(\"ec3a2003-d031-4e8b-9c3d-77cca41e8c18\", [{\"y\": [78718, 69655, 65928, 63430, 65147, 68178, 67721, 69336, 68250, 69152, 71557, 77383, 78140], \"x\": [\"2016-01-01\", \"2017-01-01\", \"2005-01-01\", \"2006-01-01\", \"2007-01-01\", \"2008-01-01\", \"2009-01-01\", \"2010-01-01\", \"2011-01-01\", \"2012-01-01\", \"2013-01-01\", \"2014-01-01\", \"2015-01-01\"], \"type\": \"bar\"}], {\"yaxis\": {\"tickcolor\": \"#000\", \"autotick\": true, \"ticks\": \"outside\"}, \"xaxis\": {\"range\": [\"2000-01-01\", \"2018-01-01\"]}, \"title\": \"pub_year_dict\"}, {\"linkText\": \"Export to plot.ly\", \"showLink\": true})});</script>"
      ],
      "text/plain": [
       "<IPython.core.display.HTML object>"
      ]
     },
     "metadata": {},
     "output_type": "display_data"
    },
    {
     "data": {
      "text/html": [
       "<script>requirejs.config({paths: { 'plotly': ['https://cdn.plot.ly/plotly-latest.min']},});if(!window.Plotly) {{require(['plotly'],function(plotly) {window.Plotly=plotly;});}}</script>"
      ],
      "text/plain": [
       "<IPython.core.display.HTML object>"
      ]
     },
     "metadata": {},
     "output_type": "display_data"
    },
    {
     "data": {
      "text/html": [
       "<div id=\"25521718-a354-4669-9537-a3607b52d771\" style=\"height: 525px; width: 100%;\" class=\"plotly-graph-div\"></div><script type=\"text/javascript\">require([\"plotly\"], function(Plotly) { window.PLOTLYENV=window.PLOTLYENV || {};window.PLOTLYENV.BASE_URL=\"https://plot.ly\";Plotly.newPlot(\"25521718-a354-4669-9537-a3607b52d771\", [{\"y\": [50926, 18757, 1, 2, 12, 330, 2600, 20383, 52223, 66786, 69258, 68837, 65654, 62534, 66185, 69798, 71806, 75676, 77604, 73223], \"x\": [\"2016-01-01\", \"2017-01-01\", \"1991-01-01\", \"1999-01-01\", \"2000-01-01\", \"2001-01-01\", \"2002-01-01\", \"2003-01-01\", \"2004-01-01\", \"2005-01-01\", \"2006-01-01\", \"2007-01-01\", \"2008-01-01\", \"2009-01-01\", \"2010-01-01\", \"2011-01-01\", \"2012-01-01\", \"2013-01-01\", \"2014-01-01\", \"2015-01-01\"], \"type\": \"bar\"}], {\"yaxis\": {\"tickcolor\": \"#000\", \"autotick\": true, \"ticks\": \"outside\"}, \"xaxis\": {\"range\": [\"2000-01-01\", \"2018-01-01\"]}, \"title\": \"appl_year_dict\"}, {\"linkText\": \"Export to plot.ly\", \"showLink\": true})});</script>"
      ],
      "text/plain": [
       "<IPython.core.display.HTML object>"
      ]
     },
     "metadata": {},
     "output_type": "display_data"
    },
    {
     "data": {
      "text/html": [
       "<script>requirejs.config({paths: { 'plotly': ['https://cdn.plot.ly/plotly-latest.min']},});if(!window.Plotly) {{require(['plotly'],function(plotly) {window.Plotly=plotly;});}}</script>"
      ],
      "text/plain": [
       "<IPython.core.display.HTML object>"
      ]
     },
     "metadata": {},
     "output_type": "display_data"
    },
    {
     "data": {
      "text/html": [
       "<div id=\"5e9a3921-c28d-4a62-9468-20ddb83a97d3\" style=\"height: 525px; width: 100%;\" class=\"plotly-graph-div\"></div><script type=\"text/javascript\">require([\"plotly\"], function(Plotly) { window.PLOTLYENV=window.PLOTLYENV || {};window.PLOTLYENV.BASE_URL=\"https://plot.ly\";Plotly.newPlot(\"5e9a3921-c28d-4a62-9468-20ddb83a97d3\", [{\"y\": [22, 429097, 96691, 22993, 3205, 452, 33681, 73371, 19, 3, 3, 1, 2, 12, 3, 56, 1, 119, 28, 50, 244046, 7390, 1, 231, 1118], \"x\": [0.0, 0.5, 2.0, 3.0, 4.0, 5.0, 2.5, 1.0, 8.0, 9.0, 10.0, 11.0, 11.5, 8.5, 9.5, 6.5, 14.5, 6.0, 7.5, 7.0, 1.5, 3.5, 10.5, 5.5, 4.5], \"type\": \"bar\"}], {\"yaxis\": {\"tickcolor\": \"#000\", \"autotick\": true, \"ticks\": \"outside\"}, \"xaxis\": {\"range\": [0, 15]}, \"title\": \"years_to_publish_dict\"}, {\"linkText\": \"Export to plot.ly\", \"showLink\": true})});</script>"
      ],
      "text/plain": [
       "<IPython.core.display.HTML object>"
      ]
     },
     "metadata": {},
     "output_type": "display_data"
    },
    {
     "data": {
      "text/plain": [
       "<matplotlib.figure.Figure at 0x14ddecc0>"
      ]
     },
     "metadata": {},
     "output_type": "display_data"
    },
    {
     "data": {
      "text/plain": [
       "<matplotlib.figure.Figure at 0x111b57f0>"
      ]
     },
     "metadata": {},
     "output_type": "display_data"
    },
    {
     "data": {
      "text/plain": [
       "<matplotlib.figure.Figure at 0x1607b128>"
      ]
     },
     "metadata": {},
     "output_type": "display_data"
    }
   ],
   "source": [
    "[pub_year_dict, appl_year_dict, years_to_publish_dict] = loadStatsFromFiles(\"1x\")\n",
    "plotDict(pub_year_dict, True, 'pub_year_dict', True)\n",
    "plotDict(appl_year_dict, True, 'appl_year_dict', True)\n",
    "plotDict(years_to_publish_dict, False, 'years_to_publish_dict', True)"
   ]
  },
  {
   "cell_type": "code",
   "execution_count": 164,
   "metadata": {
    "collapsed": false
   },
   "outputs": [
    {
     "name": "stdout",
     "output_type": "stream",
     "text": [
      "<plotly.tools.PlotlyDisplay object>\n"
     ]
    }
   ],
   "source": [
    "py.sign_in('yanglinfang', 'F5jaY29GDfD8TIenMz9p')\n",
    "\n",
    "def results(symbol, trend1, trend2):\n",
    "    data = web.DataReader(symbol, data_source='yahoo')\n",
    "    data['Trend 1'] = data['Adj Close'].rolling(int(trend1)).mean()\n",
    "    data['Trend 2'] = data['Adj Close'].rolling(int(trend2)).mean()\n",
    "    #print data\n",
    "    url = data[['Adj Close', 'Trend 1', 'Trend 2']].iplot(asUrl=True)\n",
    "    print url \n",
    "    table = data.tail().to_html()\n",
    "\n",
    "results('AAPL', 20, 100)"
   ]
  },
  {
   "cell_type": "code",
   "execution_count": null,
   "metadata": {
    "collapsed": true
   },
   "outputs": [],
   "source": []
  }
 ],
 "metadata": {
  "kernelspec": {
   "display_name": "Python 2",
   "language": "python",
   "name": "python2"
  },
  "language_info": {
   "codemirror_mode": {
    "name": "ipython",
    "version": 2
   },
   "file_extension": ".py",
   "mimetype": "text/x-python",
   "name": "python",
   "nbconvert_exporter": "python",
   "pygments_lexer": "ipython2",
   "version": "2.7.10"
  }
 },
 "nbformat": 4,
 "nbformat_minor": 0
}
