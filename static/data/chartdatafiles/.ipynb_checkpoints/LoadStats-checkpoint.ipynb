{
 "cells": [
  {
   "cell_type": "code",
   "execution_count": 65,
   "metadata": {
    "collapsed": false
   },
   "outputs": [],
   "source": [
    "import csv\n",
    "import os.path \n",
    "import json \n",
    "import numpy as np\n",
    "import datetime\n",
    "import operator\n",
    "\n",
    "pathPrefix = ''\n",
    "prefix = pathPrefix + 'chart_cluster_data_'\n",
    "ending = '.csv'\n",
    "\n",
    "headerKeys = ['pub_year', 'appl_year', 'grant_year', 'years_to_publish', \n",
    "              'years_to_grant', 'patent_doc_kind', 'appl_change_count','number_of_claims']\n",
    "\n",
    "headerValue = 'count'\n",
    " \n",
    "def loadStatsFromOneFile(clusterStr): \n",
    "    fName = ''\n",
    "    \n",
    "    if(len(clusterStr)==2) and ('x' not in clusterStr):\n",
    "        fName = prefix + clusterStr[0] +\"_\"+ clusterStr[1] + ending   \n",
    "    #print fName\n",
    "    \n",
    "    dicts=[]\n",
    "    for keystr in headerKeys:\n",
    "        dicts.append({}) \n",
    "    \n",
    "    if(fName == ''):\n",
    "        return dicts\n",
    "    \n",
    "    with open(fName) as csvfile:\n",
    "        spamreader = csv.reader(csvfile, delimiter= ' ', quotechar='|')\n",
    "        rowCount = -1 \n",
    "        for row in spamreader:\n",
    "            rowCount += 1\n",
    "            jsonStr = str(row).replace(\"['\",'').replace(\"']\",'')\n",
    "            jsons = json.loads(jsonStr)\n",
    "            for j in jsons:  \n",
    "                keystr = headerKeys[rowCount]\n",
    "                if j[keystr] in dicts[rowCount]:\n",
    "                    dicts[rowCount][j[keystr]] += int(j[headerValue])\n",
    "                else:\n",
    "                    dicts[rowCount][j[keystr]] = int(j[headerValue])\n",
    "\n",
    "    return dicts\n",
    "\n",
    "def mergeDicts(dict_full, dict_temp):\n",
    "    for k,v in dict_temp.items():\n",
    "        if len(str(k))<1:\n",
    "            continue \n",
    "        if k in dict_full:\n",
    "            dict_full[k] += v\n",
    "        else:\n",
    "            dict_full[k] = v\n",
    "            \n",
    "def loadStatsFromFiles(clusterStr): \n",
    "    clusters = ['0','1','2','3','4','5','6','7','8','9']\n",
    "    files = []\n",
    "    dicts=[]\n",
    "    for keystr in headerKeys:\n",
    "        dicts.append({}) \n",
    "    \n",
    "    if clusterStr[0] == 'x':\n",
    "        for x in clusters: \n",
    "            if(clusterStr[1] == 'x'):\n",
    "                for xx in clusters:\n",
    "                    files.append(x+xx)\n",
    "            else:\n",
    "                files.append(x+clusterStr[1])\n",
    "    else:\n",
    "        if(clusterStr[1] == 'x'):\n",
    "            for xx in clusters:\n",
    "                files.append(clusterStr[0]+xx)\n",
    "        else:\n",
    "            files.append(clusterStr[0]+clusterStr[1])\n",
    "\n",
    "    for f in files: \n",
    "        temp = loadStatsFromOneFile(f)\n",
    "        count = 0\n",
    "        for d in dicts:\n",
    "            mergeDicts(d, temp[count])\n",
    "            count += 1\n",
    "\n",
    "    return dicts\n",
    "\n",
    "\n",
    "def saveToCsv(clusterStr, data_dict_original, header):\n",
    "    fileToSave = prefix + clusterStr + '_' + header[0] + ending\n",
    "    data_dict = sorted(data_dict_original.items(), key=operator.itemgetter(0))\n",
    "    \n",
    "    if os.path.isfile(fileToSave) == False:\n",
    "        with open(fileToSave, 'w') as csvfile:\n",
    "            fieldnames = header\n",
    "            writer = csv.DictWriter(csvfile, fieldnames=fieldnames)\n",
    "            writer.writeheader()\n",
    "            for key, value in data_dict: \n",
    "                writer.writerow({header[0]: key, header[1]: value})\n",
    "    return fileToSave\n",
    "\n",
    "def createStatsSummary(clusterStr):\n",
    "    dicts = loadStatsFromFiles(clusterStr)\n",
    "    files = []\n",
    "    count = 0\n",
    "    for d in dicts:\n",
    "        f = saveToCsv(clusterStr, d, [headerKeys[count],headerValue])\n",
    "        files.append(f)\n",
    "        count += 1\n",
    "        \n",
    "    return files"
   ]
  },
  {
   "cell_type": "code",
   "execution_count": 66,
   "metadata": {
    "collapsed": false
   },
   "outputs": [
    {
     "data": {
      "text/plain": [
       "['chart_cluster_data_1x_pub_year.csv',\n",
       " 'chart_cluster_data_1x_appl_year.csv',\n",
       " 'chart_cluster_data_1x_grant_year.csv',\n",
       " 'chart_cluster_data_1x_years_to_publish.csv',\n",
       " 'chart_cluster_data_1x_years_to_grant.csv',\n",
       " 'chart_cluster_data_1x_patent_doc_kind.csv',\n",
       " 'chart_cluster_data_1x_appl_change_count.csv',\n",
       " 'chart_cluster_data_1x_number_of_claims.csv']"
      ]
     },
     "execution_count": 66,
     "metadata": {},
     "output_type": "execute_result"
    }
   ],
   "source": [
    "createStatsSummary(\"1x\")"
   ]
  },
  {
   "cell_type": "code",
   "execution_count": 59,
   "metadata": {
    "collapsed": true
   },
   "outputs": [],
   "source": [
    "import matplotlib.pyplot as plt\n",
    "import plotly\n",
    "import plotly.plotly as py\n",
    "from plotly.graph_objs import Scatter, Layout, Bar\n",
    "    \n",
    "def plotDict(data_dict, yearlyData, fileName, offline):\n",
    "    py.sign_in('yanglinfang', 'F5jaY29GDfD8TIenMz9p')\n",
    "    date = plt.figure()\n",
    "    x = []\n",
    "    y = []\n",
    "    for k in data_dict:\n",
    "        if(yearlyData == True):\n",
    "            x.append(datetime.datetime(k, 1, 1))\n",
    "        else:\n",
    "            x.append(k)\n",
    "        y.append(data_dict[k])\n",
    "        \n",
    "    layout = Layout(\n",
    "        title=fileName,\n",
    "        xaxis=dict(\n",
    "            autotick=True,\n",
    "            ticks='outside',\n",
    "            tickcolor='#000'\n",
    "        ),\n",
    "        yaxis=dict(\n",
    "            autotick=True,\n",
    "            ticks='outside',\n",
    "            tickcolor='#000'\n",
    "        )\n",
    "    )\n",
    "    \n",
    "    if(yearlyData == True):\n",
    "        layout.xaxis=dict(range=[datetime.datetime(2000, 1, 1), datetime.datetime(2018, 1, 1)]) \n",
    "    \n",
    "    if offline == True: \n",
    "        plotly.offline.init_notebook_mode(connected=True)\n",
    "        plotly.offline.iplot({\n",
    "            \"data\": [Bar(x=x, y=y)],\n",
    "            \"layout\": layout\n",
    "        })\n",
    "    else:\n",
    "        print (\"only supporting offline for now\")"
   ]
  },
  {
   "cell_type": "code",
   "execution_count": 60,
   "metadata": {
    "collapsed": false
   },
   "outputs": [
    {
     "data": {
      "text/html": [
       "<script>requirejs.config({paths: { 'plotly': ['https://cdn.plot.ly/plotly-latest.min']},});if(!window.Plotly) {{require(['plotly'],function(plotly) {window.Plotly=plotly;});}}</script>"
      ],
      "text/plain": [
       "<IPython.core.display.HTML object>"
      ]
     },
     "metadata": {},
     "output_type": "display_data"
    },
    {
     "data": {
      "text/html": [
       "<div id=\"3032c29f-4eb8-4bb8-99d5-2db55dfa7c1a\" style=\"height: 525px; width: 100%;\" class=\"plotly-graph-div\"></div><script type=\"text/javascript\">require([\"plotly\"], function(Plotly) { window.PLOTLYENV=window.PLOTLYENV || {};window.PLOTLYENV.BASE_URL=\"https://plot.ly\";Plotly.newPlot(\"3032c29f-4eb8-4bb8-99d5-2db55dfa7c1a\", [{\"y\": [78718, 69655, 65928, 63430, 65147, 68178, 67721, 69336, 68250, 69152, 71557, 77383, 78140], \"x\": [\"2016-01-01\", \"2017-01-01\", \"2005-01-01\", \"2006-01-01\", \"2007-01-01\", \"2008-01-01\", \"2009-01-01\", \"2010-01-01\", \"2011-01-01\", \"2012-01-01\", \"2013-01-01\", \"2014-01-01\", \"2015-01-01\"], \"type\": \"bar\"}], {\"yaxis\": {\"tickcolor\": \"#000\", \"autotick\": true, \"ticks\": \"outside\"}, \"xaxis\": {\"range\": [\"2000-01-01\", \"2018-01-01\"]}, \"title\": \"pub_year\"}, {\"linkText\": \"Export to plot.ly\", \"showLink\": true})});</script>"
      ],
      "text/plain": [
       "<IPython.core.display.HTML object>"
      ]
     },
     "metadata": {},
     "output_type": "display_data"
    },
    {
     "data": {
      "text/html": [
       "<script>requirejs.config({paths: { 'plotly': ['https://cdn.plot.ly/plotly-latest.min']},});if(!window.Plotly) {{require(['plotly'],function(plotly) {window.Plotly=plotly;});}}</script>"
      ],
      "text/plain": [
       "<IPython.core.display.HTML object>"
      ]
     },
     "metadata": {},
     "output_type": "display_data"
    },
    {
     "data": {
      "text/html": [
       "<div id=\"e4a92c86-ffa0-475a-80f4-5a0be886671f\" style=\"height: 525px; width: 100%;\" class=\"plotly-graph-div\"></div><script type=\"text/javascript\">require([\"plotly\"], function(Plotly) { window.PLOTLYENV=window.PLOTLYENV || {};window.PLOTLYENV.BASE_URL=\"https://plot.ly\";Plotly.newPlot(\"e4a92c86-ffa0-475a-80f4-5a0be886671f\", [{\"y\": [50926, 18757, 1, 2, 12, 330, 2600, 20383, 52223, 66786, 69258, 68837, 65654, 62534, 66185, 69798, 71806, 75676, 77604, 73223], \"x\": [\"2016-01-01\", \"2017-01-01\", \"1991-01-01\", \"1999-01-01\", \"2000-01-01\", \"2001-01-01\", \"2002-01-01\", \"2003-01-01\", \"2004-01-01\", \"2005-01-01\", \"2006-01-01\", \"2007-01-01\", \"2008-01-01\", \"2009-01-01\", \"2010-01-01\", \"2011-01-01\", \"2012-01-01\", \"2013-01-01\", \"2014-01-01\", \"2015-01-01\"], \"type\": \"bar\"}], {\"yaxis\": {\"tickcolor\": \"#000\", \"autotick\": true, \"ticks\": \"outside\"}, \"xaxis\": {\"range\": [\"2000-01-01\", \"2018-01-01\"]}, \"title\": \"appl_year\"}, {\"linkText\": \"Export to plot.ly\", \"showLink\": true})});</script>"
      ],
      "text/plain": [
       "<IPython.core.display.HTML object>"
      ]
     },
     "metadata": {},
     "output_type": "display_data"
    },
    {
     "data": {
      "text/html": [
       "<script>requirejs.config({paths: { 'plotly': ['https://cdn.plot.ly/plotly-latest.min']},});if(!window.Plotly) {{require(['plotly'],function(plotly) {window.Plotly=plotly;});}}</script>"
      ],
      "text/plain": [
       "<IPython.core.display.HTML object>"
      ]
     },
     "metadata": {},
     "output_type": "display_data"
    },
    {
     "data": {
      "text/html": [
       "<div id=\"35f268f6-b7d2-40bb-af21-2d07bb6f7688\" style=\"height: 525px; width: 100%;\" class=\"plotly-graph-div\"></div><script type=\"text/javascript\">require([\"plotly\"], function(Plotly) { window.PLOTLYENV=window.PLOTLYENV || {};window.PLOTLYENV.BASE_URL=\"https://plot.ly\";Plotly.newPlot(\"35f268f6-b7d2-40bb-af21-2d07bb6f7688\", [{\"y\": [57377, 55808, 4736, 17893, 24028, 27839, 30342, 41602, 42914, 47796, 51704, 55808, 56611], \"x\": [\"2016-01-01\", \"2017-01-01\", \"2005-01-01\", \"2006-01-01\", \"2007-01-01\", \"2008-01-01\", \"2009-01-01\", \"2010-01-01\", \"2011-01-01\", \"2012-01-01\", \"2013-01-01\", \"2014-01-01\", \"2015-01-01\"], \"type\": \"bar\"}], {\"yaxis\": {\"tickcolor\": \"#000\", \"autotick\": true, \"ticks\": \"outside\"}, \"xaxis\": {\"range\": [\"2000-01-01\", \"2018-01-01\"]}, \"title\": \"grant_year\"}, {\"linkText\": \"Export to plot.ly\", \"showLink\": true})});</script>"
      ],
      "text/plain": [
       "<IPython.core.display.HTML object>"
      ]
     },
     "metadata": {},
     "output_type": "display_data"
    },
    {
     "data": {
      "text/html": [
       "<script>requirejs.config({paths: { 'plotly': ['https://cdn.plot.ly/plotly-latest.min']},});if(!window.Plotly) {{require(['plotly'],function(plotly) {window.Plotly=plotly;});}}</script>"
      ],
      "text/plain": [
       "<IPython.core.display.HTML object>"
      ]
     },
     "metadata": {},
     "output_type": "display_data"
    },
    {
     "data": {
      "text/html": [
       "<div id=\"e5bd0e76-9f7d-4ef7-a448-e948e4e20600\" style=\"height: 525px; width: 100%;\" class=\"plotly-graph-div\"></div><script type=\"text/javascript\">require([\"plotly\"], function(Plotly) { window.PLOTLYENV=window.PLOTLYENV || {};window.PLOTLYENV.BASE_URL=\"https://plot.ly\";Plotly.newPlot(\"e5bd0e76-9f7d-4ef7-a448-e948e4e20600\", [{\"y\": [22, 429097, 96691, 22993, 3205, 452, 33681, 73371, 19, 3, 3, 1, 2, 12, 3, 56, 1, 119, 28, 50, 244046, 7390, 1, 231, 1118], \"x\": [0.0, 0.5, 2.0, 3.0, 4.0, 5.0, 2.5, 1.0, 8.0, 9.0, 10.0, 11.0, 11.5, 8.5, 9.5, 6.5, 14.5, 6.0, 7.5, 7.0, 1.5, 3.5, 10.5, 5.5, 4.5], \"type\": \"bar\"}], {\"yaxis\": {\"tickcolor\": \"#000\", \"autotick\": true, \"ticks\": \"outside\"}, \"xaxis\": {\"tickcolor\": \"#000\", \"autotick\": true, \"ticks\": \"outside\"}, \"title\": \"years_to_publish\"}, {\"linkText\": \"Export to plot.ly\", \"showLink\": true})});</script>"
      ],
      "text/plain": [
       "<IPython.core.display.HTML object>"
      ]
     },
     "metadata": {},
     "output_type": "display_data"
    },
    {
     "data": {
      "text/html": [
       "<script>requirejs.config({paths: { 'plotly': ['https://cdn.plot.ly/plotly-latest.min']},});if(!window.Plotly) {{require(['plotly'],function(plotly) {window.Plotly=plotly;});}}</script>"
      ],
      "text/plain": [
       "<IPython.core.display.HTML object>"
      ]
     },
     "metadata": {},
     "output_type": "display_data"
    },
    {
     "data": {
      "text/html": [
       "<div id=\"5cd68e1f-effc-499a-a724-309aebb0a1d4\" style=\"height: 525px; width: 100%;\" class=\"plotly-graph-div\"></div><script type=\"text/javascript\">require([\"plotly\"], function(Plotly) { window.PLOTLYENV=window.PLOTLYENV || {};window.PLOTLYENV.BASE_URL=\"https://plot.ly\";Plotly.newPlot(\"5cd68e1f-effc-499a-a724-309aebb0a1d4\", [{\"y\": [14, 7419, 74556, 71284, 41955, 22060, 78502, 30049, 1926, 848, 362, 156, 48, 11, 6, 237, 30, 6, 1251, 86, 6252, 9874, 2810, 4352, 579, 57399, 56634, 2, 30960, 14790], \"x\": [0.0, 0.5, 2.0, 3.0, 4.0, 5.0, 2.5, 1.0, 8.0, 9.0, 10.0, 11.0, 12.0, 13.0, 14.0, 10.5, 12.5, 13.5, 8.5, 11.5, 6.5, 6.0, 7.5, 7.0, 9.5, 1.5, 3.5, 14.5, 4.5, 5.5], \"type\": \"bar\"}], {\"yaxis\": {\"tickcolor\": \"#000\", \"autotick\": true, \"ticks\": \"outside\"}, \"xaxis\": {\"tickcolor\": \"#000\", \"autotick\": true, \"ticks\": \"outside\"}, \"title\": \"years_to_grant\"}, {\"linkText\": \"Export to plot.ly\", \"showLink\": true})});</script>"
      ],
      "text/plain": [
       "<IPython.core.display.HTML object>"
      ]
     },
     "metadata": {},
     "output_type": "display_data"
    },
    {
     "data": {
      "text/html": [
       "<script>requirejs.config({paths: { 'plotly': ['https://cdn.plot.ly/plotly-latest.min']},});if(!window.Plotly) {{require(['plotly'],function(plotly) {window.Plotly=plotly;});}}</script>"
      ],
      "text/plain": [
       "<IPython.core.display.HTML object>"
      ]
     },
     "metadata": {},
     "output_type": "display_data"
    },
    {
     "data": {
      "text/html": [
       "<div id=\"c837388d-91a5-466a-8968-7f136709477b\" style=\"height: 525px; width: 100%;\" class=\"plotly-graph-div\"></div><script type=\"text/javascript\">require([\"plotly\"], function(Plotly) { window.PLOTLYENV=window.PLOTLYENV || {};window.PLOTLYENV.BASE_URL=\"https://plot.ly\";Plotly.newPlot(\"c837388d-91a5-466a-8968-7f136709477b\", [{\"y\": [4, 70, 10, 6849, 507524, 1], \"x\": [\"P2\", \"P3\", \"H1\", \"B1\", \"B2\", \"E1\"], \"type\": \"bar\"}], {\"yaxis\": {\"tickcolor\": \"#000\", \"autotick\": true, \"ticks\": \"outside\"}, \"xaxis\": {\"tickcolor\": \"#000\", \"autotick\": true, \"ticks\": \"outside\"}, \"title\": \"patent_doc_kind\"}, {\"linkText\": \"Export to plot.ly\", \"showLink\": true})});</script>"
      ],
      "text/plain": [
       "<IPython.core.display.HTML object>"
      ]
     },
     "metadata": {},
     "output_type": "display_data"
    },
    {
     "data": {
      "text/html": [
       "<script>requirejs.config({paths: { 'plotly': ['https://cdn.plot.ly/plotly-latest.min']},});if(!window.Plotly) {{require(['plotly'],function(plotly) {window.Plotly=plotly;});}}</script>"
      ],
      "text/plain": [
       "<IPython.core.display.HTML object>"
      ]
     },
     "metadata": {},
     "output_type": "display_data"
    },
    {
     "data": {
      "text/html": [
       "<div id=\"7ed0f31a-ca53-4712-8b4c-648845a4eab0\" style=\"height: 525px; width: 100%;\" class=\"plotly-graph-div\"></div><script type=\"text/javascript\">require([\"plotly\"], function(Plotly) { window.PLOTLYENV=window.PLOTLYENV || {};window.PLOTLYENV.BASE_URL=\"https://plot.ly\";Plotly.newPlot(\"7ed0f31a-ca53-4712-8b4c-648845a4eab0\", [{\"y\": [912595], \"x\": [1], \"type\": \"bar\"}], {\"yaxis\": {\"tickcolor\": \"#000\", \"autotick\": true, \"ticks\": \"outside\"}, \"xaxis\": {\"tickcolor\": \"#000\", \"autotick\": true, \"ticks\": \"outside\"}, \"title\": \"appl_change_count\"}, {\"linkText\": \"Export to plot.ly\", \"showLink\": true})});</script>"
      ],
      "text/plain": [
       "<IPython.core.display.HTML object>"
      ]
     },
     "metadata": {},
     "output_type": "display_data"
    },
    {
     "data": {
      "text/html": [
       "<script>requirejs.config({paths: { 'plotly': ['https://cdn.plot.ly/plotly-latest.min']},});if(!window.Plotly) {{require(['plotly'],function(plotly) {window.Plotly=plotly;});}}</script>"
      ],
      "text/plain": [
       "<IPython.core.display.HTML object>"
      ]
     },
     "metadata": {},
     "output_type": "display_data"
    },
    {
     "data": {
      "text/html": [
       "<div id=\"69b00e0a-270b-460f-b024-647ba6d0afd7\" style=\"height: 525px; width: 100%;\" class=\"plotly-graph-div\"></div><script type=\"text/javascript\">require([\"plotly\"], function(Plotly) { window.PLOTLYENV=window.PLOTLYENV || {};window.PLOTLYENV.BASE_URL=\"https://plot.ly\";Plotly.newPlot(\"69b00e0a-270b-460f-b024-647ba6d0afd7\", [{\"y\": [60070, 26, 201089, 16, 211427, 6, 1, 27230, 9, 9477, 6, 2688, 6, 2, 1291, 3, 506, 8, 1, 273, 1, 136, 3, 95, 1, 1, 45, 41], \"x\": [0.0, 130.0, 10.0, 140.0, 20.0, 150.0, 280.0, 30.0, 160.0, 40.0, 170.0, 50.0, 180.0, 310.0, 60.0, 190.0, 70.0, 200.0, 330.0, 80.0, 210.0, 90.0, 220.0, 100.0, 230.0, 490.0, 110.0, 120.0], \"type\": \"bar\"}], {\"yaxis\": {\"tickcolor\": \"#000\", \"autotick\": true, \"ticks\": \"outside\"}, \"xaxis\": {\"tickcolor\": \"#000\", \"autotick\": true, \"ticks\": \"outside\"}, \"title\": \"number_of_claims\"}, {\"linkText\": \"Export to plot.ly\", \"showLink\": true})});</script>"
      ],
      "text/plain": [
       "<IPython.core.display.HTML object>"
      ]
     },
     "metadata": {},
     "output_type": "display_data"
    }
   ],
   "source": [
    "dicts = loadStatsFromFiles(\"1x\")\n",
    "count = 0\n",
    "for d in dicts:\n",
    "    keystr = headerKeys[count]\n",
    "    if keystr in ['pub_year', 'appl_year', 'grant_year']:\n",
    "        plotDict(d, True, keystr, True) \n",
    "    if keystr in ['years_to_publish', 'years_to_grant', 'patent_doc_kind', 'appl_change_count', 'number_of_claims']:\n",
    "        plotDict(d, False, keystr, True) \n",
    "    count += 1\n",
    "    "
   ]
  },
  {
   "cell_type": "code",
   "execution_count": 164,
   "metadata": {
    "collapsed": false
   },
   "outputs": [
    {
     "name": "stdout",
     "output_type": "stream",
     "text": [
      "<plotly.tools.PlotlyDisplay object>\n"
     ]
    }
   ],
   "source": [
    "py.sign_in('yanglinfang', 'F5jaY29GDfD8TIenMz9p')\n",
    "\n",
    "def results(symbol, trend1, trend2):\n",
    "    data = web.DataReader(symbol, data_source='yahoo')\n",
    "    data['Trend 1'] = data['Adj Close'].rolling(int(trend1)).mean()\n",
    "    data['Trend 2'] = data['Adj Close'].rolling(int(trend2)).mean()\n",
    "    #print data\n",
    "    url = data[['Adj Close', 'Trend 1', 'Trend 2']].iplot(asUrl=True)\n",
    "    print url \n",
    "    table = data.tail().to_html()\n",
    "\n",
    "results('AAPL', 20, 100)"
   ]
  },
  {
   "cell_type": "code",
   "execution_count": null,
   "metadata": {
    "collapsed": true
   },
   "outputs": [],
   "source": []
  }
 ],
 "metadata": {
  "anaconda-cloud": {},
  "kernelspec": {
   "display_name": "Python [default]",
   "language": "python",
   "name": "python2"
  },
  "language_info": {
   "codemirror_mode": {
    "name": "ipython",
    "version": 2
   },
   "file_extension": ".py",
   "mimetype": "text/x-python",
   "name": "python",
   "nbconvert_exporter": "python",
   "pygments_lexer": "ipython2",
   "version": "2.7.12"
  }
 },
 "nbformat": 4,
 "nbformat_minor": 1
}
