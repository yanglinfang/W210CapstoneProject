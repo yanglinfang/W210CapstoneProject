{
 "cells": [
  {
   "cell_type": "code",
   "execution_count": 257,
   "metadata": {},
   "outputs": [],
   "source": [
    "import csv\n",
    "import os.path\n",
    "\n",
    "allowedId = ['0','1','2','3','4','5','6','7','8','9','x']\n",
    "prefix = 'summary_'\n",
    "ending = '.csv'\n",
    "header = ['word', 'count']\n",
    "fileNameSplit = '-'\n",
    "def loadTitles(fileId, rowId):\n",
    "    fName = 'topics_'+ fileId + ending\n",
    "    returnList = [] \n",
    "    allRows = [] \n",
    "    if(fileId in allowedId):\n",
    "        with open(fName, newline='') as csvfile:\n",
    "            spamreader = csv.reader(csvfile, delimiter= ' ', quotechar='|')\n",
    "            for row in spamreader:\n",
    "                #print(len(row))\n",
    "                Id, firstWord = row[0].split(',')\n",
    "                row[0] = firstWord \n",
    "                #print(Id, firstWord)\n",
    "                if(rowId == Id):\n",
    "                    returnList = row\n",
    "                allRows += row \n",
    "    if(rowId == 'x'):\n",
    "        return allRows\n",
    "    else:  \n",
    "        return returnList \n",
    "           \n",
    "            \n",
    "def getDict(inputList):\n",
    "    counts = dict()\n",
    "    for i in inputList:\n",
    "        counts[i] = counts.get(i, 0) + 1\n",
    "    return counts \n",
    "\n",
    "def saveToCsv(fName, counts):\n",
    "    with open(prefix + fName + ending, 'w') as csvfile:\n",
    "        fieldnames = header\n",
    "        writer = csv.DictWriter(csvfile, fieldnames=fieldnames)\n",
    "        writer.writeheader()\n",
    "        for key in counts: \n",
    "            writer.writerow({header[0]: key, header[1]: counts[key]})\n",
    "        \n",
    "def createTitleSummaryFile(fName):\n",
    "    if os.path.isfile(prefix+fName+ending) == False:\n",
    "        files = fName.split(fileNameSplit)\n",
    "        wordList = []\n",
    "        for f in files: \n",
    "            if(len(f)==2) and f[0] in allowedId and f[1] in allowedId:\n",
    "                wordList += loadTitles(f[0], f[1])\n",
    "        counts = getDict(wordList)\n",
    "        saveToCsv(fName, counts)\n",
    "        \n",
    "        \n",
    "    "
   ]
  },
  {
   "cell_type": "code",
   "execution_count": 259,
   "metadata": {},
   "outputs": [],
   "source": [
    "createTitleSummaryFile('x0-0x')"
   ]
  },
  {
   "cell_type": "code",
   "execution_count": null,
   "metadata": {
    "collapsed": true
   },
   "outputs": [],
   "source": []
  }
 ],
 "metadata": {
  "kernelspec": {
   "display_name": "Python 3",
   "language": "python",
   "name": "python3"
  },
  "language_info": {
   "codemirror_mode": {
    "name": "ipython",
    "version": 3
   },
   "file_extension": ".py",
   "mimetype": "text/x-python",
   "name": "python",
   "nbconvert_exporter": "python",
   "pygments_lexer": "ipython3",
   "version": "3.6.2"
  }
 },
 "nbformat": 4,
 "nbformat_minor": 2
}
