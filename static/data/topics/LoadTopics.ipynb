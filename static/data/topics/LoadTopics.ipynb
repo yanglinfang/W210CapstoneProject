{
 "cells": [
  {
   "cell_type": "code",
   "execution_count": 59,
   "metadata": {},
   "outputs": [],
   "source": [
    "import csv\n",
    "import os.path\n",
    "import numpy as np \n",
    "from decimal import Decimal\n",
    "\n",
    "allowedId = ['0','1','2','3','4','5','6','7','8','9','x']\n",
    "pathPrefix = ''\n",
    "prefix = pathPrefix + 'summary_'\n",
    "ending = '.csv'\n",
    "header = ['word', 'count']\n",
    "fileNameSplit = '-'\n",
    "def loadTitles(fileId, rowId):\n",
    "    fName = pathPrefix + 'topics_'+ fileId + ending\n",
    "    returnList = [] \n",
    "    allRows = [] \n",
    "    weights = np.logspace(0.8,0.1,dtype='double', num=2000)\n",
    "    #print (weights) \n",
    "    if(fileId in allowedId):\n",
    "        print(fName)\n",
    "        with open(fName) as csvfile:\n",
    "            spamreader = csv.reader(csvfile, delimiter= ' ', quotechar='|')\n",
    "            for row in spamreader:\n",
    "                #print(len(row))\n",
    "                Id, firstWord = row[0].split(',')\n",
    "                row[0] = firstWord \n",
    "                row_with_weight = []\n",
    "                index = 0 \n",
    "                for row_word in row:\n",
    "                    row_with_weight.append(row_word + '|' + \"{0:.3f}\".format(weights[index]))\n",
    "                    index += 1\n",
    "                #print (row)\n",
    "                #print (row_with_weight)\n",
    "                #print(Id, firstWord)\n",
    "                if(rowId == Id):\n",
    "                    returnList = row_with_weight\n",
    "                allRows += row_with_weight \n",
    "    if(rowId == 'x'):\n",
    "        return allRows\n",
    "    else:  \n",
    "        return returnList \n",
    "           \n",
    "            \n",
    "def getDict(inputList):\n",
    "    counts = dict()\n",
    "    #print (inputList)\n",
    "    for word_with_weight in inputList:\n",
    "        #print(word_with_weight)\n",
    "        word, weightStr = word_with_weight.split('|')\n",
    "        weight = Decimal(weightStr)\n",
    "        counts[word] = counts.get(word, 0) + 1000 + int(weight*1000)\n",
    "        #print(word, weight, counts[word])\n",
    "    return counts \n",
    "\n",
    "def saveToCsv(fName, counts, topWords):\n",
    "    with open(prefix + fName + '_' + str(topWords) + ending, 'w') as csvfile:\n",
    "        fieldnames = header\n",
    "        writer = csv.DictWriter(csvfile, fieldnames=fieldnames)\n",
    "        writer.writeheader()\n",
    "        wordsSaved = 0 \n",
    "        for key in counts: \n",
    "            if(wordsSaved<topWords):\n",
    "                writer.writerow({header[0]: key, header[1]: counts[key]})\n",
    "                wordsSaved +=1 \n",
    "            else:\n",
    "                break \n",
    "        \n",
    "def createTitleSummaryFile(fName, topWords):\n",
    "    if os.path.isfile(prefix+fName+ending) == False:\n",
    "        files = fName.split(fileNameSplit)\n",
    "        wordList = []\n",
    "        for f in files: \n",
    "            if(len(f)==2) and f[0] in allowedId and f[1] in allowedId:\n",
    "                wordList += loadTitles(f[0], f[1])\n",
    "        counts = getDict(wordList)\n",
    "        saveToCsv(fName, counts, topWords)\n",
    "    return prefix + fName + '_' + str(topWords) + ending\n",
    "        \n",
    "        \n",
    "    "
   ]
  },
  {
   "cell_type": "code",
   "execution_count": 60,
   "metadata": {},
   "outputs": [],
   "source": [
    "!rm \"summary_x0_400.csv\"\n",
    "!rm \"summary_xx_400.csv\""
   ]
  },
  {
   "cell_type": "code",
   "execution_count": 61,
   "metadata": {},
   "outputs": [
    {
     "name": "stdout",
     "output_type": "stream",
     "text": [
      "[ 6.30957344  6.30448804  6.29940673 ...,  1.26095721  1.2599409\n",
      "  1.25892541]\n",
      "topics_x.csv\n",
      "[ 6.30957344  6.30448804  6.29940673 ...,  1.26095721  1.2599409\n",
      "  1.25892541]\n",
      "topics_x.csv\n"
     ]
    },
    {
     "data": {
      "text/plain": [
       "'summary_xx_400.csv'"
      ]
     },
     "execution_count": 61,
     "metadata": {},
     "output_type": "execute_result"
    }
   ],
   "source": [
    "createTitleSummaryFile('x0', 400)\n",
    "createTitleSummaryFile('xx', 400)"
   ]
  },
  {
   "cell_type": "code",
   "execution_count": 41,
   "metadata": {},
   "outputs": [
    {
     "name": "stdout",
     "output_type": "stream",
     "text": [
      "download: s3://ncw210data/NewClusterFiles/chartdatafiles/chart_cluster_data_0_0.csv to ../chartdatafiles/chart_cluster_data_0_0.csv\n",
      "download: s3://ncw210data/NewClusterFiles/chartdatafiles/chart_cluster_data_0_4.csv to ../chartdatafiles/chart_cluster_data_0_4.csv\n",
      "download: s3://ncw210data/NewClusterFiles/chartdatafiles/chart_cluster_data_1_1.csv to ../chartdatafiles/chart_cluster_data_1_1.csv\n",
      "download: s3://ncw210data/NewClusterFiles/chartdatafiles/chart_cluster_data_0_8.csv to ../chartdatafiles/chart_cluster_data_0_8.csv\n",
      "download: s3://ncw210data/NewClusterFiles/chartdatafiles/chart_cluster_data_0_3.csv to ../chartdatafiles/chart_cluster_data_0_3.csv\n",
      "download: s3://ncw210data/NewClusterFiles/chartdatafiles/chart_cluster_data_0_5.csv to ../chartdatafiles/chart_cluster_data_0_5.csv\n",
      "download: s3://ncw210data/NewClusterFiles/chartdatafiles/chart_cluster_data_0_2.csv to ../chartdatafiles/chart_cluster_data_0_2.csv\n",
      "download: s3://ncw210data/NewClusterFiles/chartdatafiles/chart_cluster_data_0_7.csv to ../chartdatafiles/chart_cluster_data_0_7.csv\n",
      "download: s3://ncw210data/NewClusterFiles/chartdatafiles/chart_cluster_data_0_9.csv to ../chartdatafiles/chart_cluster_data_0_9.csv\n",
      "download: s3://ncw210data/NewClusterFiles/chartdatafiles/chart_cluster_data_1_0.csv to ../chartdatafiles/chart_cluster_data_1_0.csv\n",
      "download: s3://ncw210data/NewClusterFiles/chartdatafiles/chart_cluster_data_1_5.csv to ../chartdatafiles/chart_cluster_data_1_5.csv\n",
      "download: s3://ncw210data/NewClusterFiles/chartdatafiles/chart_cluster_data_1_2.csv to ../chartdatafiles/chart_cluster_data_1_2.csv\n",
      "download: s3://ncw210data/NewClusterFiles/chartdatafiles/chart_cluster_data_1_4.csv to ../chartdatafiles/chart_cluster_data_1_4.csv\n",
      "download: s3://ncw210data/NewClusterFiles/chartdatafiles/chart_cluster_data_0_6.csv to ../chartdatafiles/chart_cluster_data_0_6.csv\n",
      "download: s3://ncw210data/NewClusterFiles/chartdatafiles/chart_cluster_data_1_6.csv to ../chartdatafiles/chart_cluster_data_1_6.csv\n",
      "download: s3://ncw210data/NewClusterFiles/chartdatafiles/chart_cluster_data_1_3.csv to ../chartdatafiles/chart_cluster_data_1_3.csv\n",
      "download: s3://ncw210data/NewClusterFiles/chartdatafiles/chart_cluster_data_1_7.csv to ../chartdatafiles/chart_cluster_data_1_7.csv\n",
      "download: s3://ncw210data/NewClusterFiles/chartdatafiles/chart_cluster_data_1_8.csv to ../chartdatafiles/chart_cluster_data_1_8.csv\n",
      "download: s3://ncw210data/NewClusterFiles/chartdatafiles/chart_cluster_data_1_9.csv to ../chartdatafiles/chart_cluster_data_1_9.csv\n",
      "download: s3://ncw210data/NewClusterFiles/chartdatafiles/chart_cluster_data_2_0.csv to ../chartdatafiles/chart_cluster_data_2_0.csv\n",
      "download: s3://ncw210data/NewClusterFiles/chartdatafiles/chart_cluster_data_2_2.csv to ../chartdatafiles/chart_cluster_data_2_2.csv\n",
      "download: s3://ncw210data/NewClusterFiles/chartdatafiles/chart_cluster_data_2_3.csv to ../chartdatafiles/chart_cluster_data_2_3.csv\n",
      "download: s3://ncw210data/NewClusterFiles/chartdatafiles/chart_cluster_data_2_1.csv to ../chartdatafiles/chart_cluster_data_2_1.csv\n",
      "download: s3://ncw210data/NewClusterFiles/chartdatafiles/chart_cluster_data_2_4.csv to ../chartdatafiles/chart_cluster_data_2_4.csv\n",
      "download: s3://ncw210data/NewClusterFiles/chartdatafiles/chart_cluster_data_2_6.csv to ../chartdatafiles/chart_cluster_data_2_6.csv\n",
      "download: s3://ncw210data/NewClusterFiles/chartdatafiles/chart_cluster_data_0_1.csv to ../chartdatafiles/chart_cluster_data_0_1.csv\n",
      "download: s3://ncw210data/NewClusterFiles/chartdatafiles/chart_cluster_data_2_5.csv to ../chartdatafiles/chart_cluster_data_2_5.csv\n",
      "download: s3://ncw210data/NewClusterFiles/chartdatafiles/chart_cluster_data_2_7.csv to ../chartdatafiles/chart_cluster_data_2_7.csv\n",
      "download: s3://ncw210data/NewClusterFiles/chartdatafiles/chart_cluster_data_2_8.csv to ../chartdatafiles/chart_cluster_data_2_8.csv\n",
      "download: s3://ncw210data/NewClusterFiles/chartdatafiles/chart_cluster_data_2_9.csv to ../chartdatafiles/chart_cluster_data_2_9.csv\n",
      "download: s3://ncw210data/NewClusterFiles/chartdatafiles/chart_cluster_data_3_3.csv to ../chartdatafiles/chart_cluster_data_3_3.csv\n",
      "download: s3://ncw210data/NewClusterFiles/chartdatafiles/chart_cluster_data_3_0.csv to ../chartdatafiles/chart_cluster_data_3_0.csv\n",
      "download: s3://ncw210data/NewClusterFiles/chartdatafiles/chart_cluster_data_3_1.csv to ../chartdatafiles/chart_cluster_data_3_1.csv\n",
      "download: s3://ncw210data/NewClusterFiles/chartdatafiles/chart_cluster_data_3_4.csv to ../chartdatafiles/chart_cluster_data_3_4.csv\n",
      "download: s3://ncw210data/NewClusterFiles/chartdatafiles/chart_cluster_data_3_5.csv to ../chartdatafiles/chart_cluster_data_3_5.csv\n",
      "download: s3://ncw210data/NewClusterFiles/chartdatafiles/chart_cluster_data_3_2.csv to ../chartdatafiles/chart_cluster_data_3_2.csv\n",
      "download: s3://ncw210data/NewClusterFiles/chartdatafiles/chart_cluster_data_3_6.csv to ../chartdatafiles/chart_cluster_data_3_6.csv\n",
      "download: s3://ncw210data/NewClusterFiles/chartdatafiles/chart_cluster_data_3_7.csv to ../chartdatafiles/chart_cluster_data_3_7.csv\n",
      "download: s3://ncw210data/NewClusterFiles/chartdatafiles/chart_cluster_data_3_9.csv to ../chartdatafiles/chart_cluster_data_3_9.csv\n",
      "download: s3://ncw210data/NewClusterFiles/chartdatafiles/chart_cluster_data_3_8.csv to ../chartdatafiles/chart_cluster_data_3_8.csv\n",
      "download: s3://ncw210data/NewClusterFiles/chartdatafiles/chart_cluster_data_4_0.csv to ../chartdatafiles/chart_cluster_data_4_0.csv\n",
      "download: s3://ncw210data/NewClusterFiles/chartdatafiles/chart_cluster_data_4_2.csv to ../chartdatafiles/chart_cluster_data_4_2.csv\n",
      "download: s3://ncw210data/NewClusterFiles/chartdatafiles/chart_cluster_data_4_3.csv to ../chartdatafiles/chart_cluster_data_4_3.csv\n",
      "download: s3://ncw210data/NewClusterFiles/chartdatafiles/chart_cluster_data_4_4.csv to ../chartdatafiles/chart_cluster_data_4_4.csv\n",
      "download: s3://ncw210data/NewClusterFiles/chartdatafiles/chart_cluster_data_4_1.csv to ../chartdatafiles/chart_cluster_data_4_1.csv\n",
      "download: s3://ncw210data/NewClusterFiles/chartdatafiles/chart_cluster_data_4_5.csv to ../chartdatafiles/chart_cluster_data_4_5.csv\n",
      "download: s3://ncw210data/NewClusterFiles/chartdatafiles/chart_cluster_data_4_6.csv to ../chartdatafiles/chart_cluster_data_4_6.csv\n",
      "download: s3://ncw210data/NewClusterFiles/chartdatafiles/chart_cluster_data_4_8.csv to ../chartdatafiles/chart_cluster_data_4_8.csv\n",
      "download: s3://ncw210data/NewClusterFiles/chartdatafiles/chart_cluster_data_4_9.csv to ../chartdatafiles/chart_cluster_data_4_9.csv\n",
      "download: s3://ncw210data/NewClusterFiles/chartdatafiles/chart_cluster_data_4_7.csv to ../chartdatafiles/chart_cluster_data_4_7.csv\n",
      "download: s3://ncw210data/NewClusterFiles/chartdatafiles/chart_cluster_data_5_3.csv to ../chartdatafiles/chart_cluster_data_5_3.csv\n",
      "download: s3://ncw210data/NewClusterFiles/chartdatafiles/chart_cluster_data_5_1.csv to ../chartdatafiles/chart_cluster_data_5_1.csv\n",
      "download: s3://ncw210data/NewClusterFiles/chartdatafiles/chart_cluster_data_5_0.csv to ../chartdatafiles/chart_cluster_data_5_0.csv\n",
      "download: s3://ncw210data/NewClusterFiles/chartdatafiles/chart_cluster_data_5_2.csv to ../chartdatafiles/chart_cluster_data_5_2.csv\n",
      "download: s3://ncw210data/NewClusterFiles/chartdatafiles/chart_cluster_data_5_4.csv to ../chartdatafiles/chart_cluster_data_5_4.csv\n",
      "download: s3://ncw210data/NewClusterFiles/chartdatafiles/chart_cluster_data_5_5.csv to ../chartdatafiles/chart_cluster_data_5_5.csv\n",
      "download: s3://ncw210data/NewClusterFiles/chartdatafiles/chart_cluster_data_5_6.csv to ../chartdatafiles/chart_cluster_data_5_6.csv\n",
      "download: s3://ncw210data/NewClusterFiles/chartdatafiles/chart_cluster_data_5_7.csv to ../chartdatafiles/chart_cluster_data_5_7.csv\n",
      "download: s3://ncw210data/NewClusterFiles/chartdatafiles/chart_cluster_data_5_9.csv to ../chartdatafiles/chart_cluster_data_5_9.csv\n",
      "download: s3://ncw210data/NewClusterFiles/chartdatafiles/chart_cluster_data_5_8.csv to ../chartdatafiles/chart_cluster_data_5_8.csv\n",
      "download: s3://ncw210data/NewClusterFiles/chartdatafiles/chart_cluster_data_6_1.csv to ../chartdatafiles/chart_cluster_data_6_1.csv\n",
      "download: s3://ncw210data/NewClusterFiles/chartdatafiles/chart_cluster_data_6_2.csv to ../chartdatafiles/chart_cluster_data_6_2.csv\n",
      "download: s3://ncw210data/NewClusterFiles/chartdatafiles/chart_cluster_data_6_0.csv to ../chartdatafiles/chart_cluster_data_6_0.csv\n",
      "download: s3://ncw210data/NewClusterFiles/chartdatafiles/chart_cluster_data_6_3.csv to ../chartdatafiles/chart_cluster_data_6_3.csv\n",
      "download: s3://ncw210data/NewClusterFiles/chartdatafiles/chart_cluster_data_6_5.csv to ../chartdatafiles/chart_cluster_data_6_5.csv\n",
      "download: s3://ncw210data/NewClusterFiles/chartdatafiles/chart_cluster_data_6_4.csv to ../chartdatafiles/chart_cluster_data_6_4.csv\n",
      "download: s3://ncw210data/NewClusterFiles/chartdatafiles/chart_cluster_data_6_6.csv to ../chartdatafiles/chart_cluster_data_6_6.csv\n",
      "download: s3://ncw210data/NewClusterFiles/chartdatafiles/chart_cluster_data_6_7.csv to ../chartdatafiles/chart_cluster_data_6_7.csv\n",
      "download: s3://ncw210data/NewClusterFiles/chartdatafiles/chart_cluster_data_6_8.csv to ../chartdatafiles/chart_cluster_data_6_8.csv\n",
      "download: s3://ncw210data/NewClusterFiles/chartdatafiles/chart_cluster_data_6_9.csv to ../chartdatafiles/chart_cluster_data_6_9.csv\n",
      "download: s3://ncw210data/NewClusterFiles/chartdatafiles/chart_cluster_data_7_0.csv to ../chartdatafiles/chart_cluster_data_7_0.csv\n",
      "download: s3://ncw210data/NewClusterFiles/chartdatafiles/chart_cluster_data_7_1.csv to ../chartdatafiles/chart_cluster_data_7_1.csv\n",
      "download: s3://ncw210data/NewClusterFiles/chartdatafiles/chart_cluster_data_7_3.csv to ../chartdatafiles/chart_cluster_data_7_3.csv\n",
      "download: s3://ncw210data/NewClusterFiles/chartdatafiles/chart_cluster_data_7_2.csv to ../chartdatafiles/chart_cluster_data_7_2.csv\n",
      "download: s3://ncw210data/NewClusterFiles/chartdatafiles/chart_cluster_data_7_4.csv to ../chartdatafiles/chart_cluster_data_7_4.csv\n",
      "download: s3://ncw210data/NewClusterFiles/chartdatafiles/chart_cluster_data_7_6.csv to ../chartdatafiles/chart_cluster_data_7_6.csv\n",
      "download: s3://ncw210data/NewClusterFiles/chartdatafiles/chart_cluster_data_7_7.csv to ../chartdatafiles/chart_cluster_data_7_7.csv\n",
      "download: s3://ncw210data/NewClusterFiles/chartdatafiles/chart_cluster_data_7_5.csv to ../chartdatafiles/chart_cluster_data_7_5.csv\n",
      "download: s3://ncw210data/NewClusterFiles/chartdatafiles/chart_cluster_data_8_2.csv to ../chartdatafiles/chart_cluster_data_8_2.csv\n",
      "download: s3://ncw210data/NewClusterFiles/chartdatafiles/chart_cluster_data_8_0.csv to ../chartdatafiles/chart_cluster_data_8_0.csv\n",
      "download: s3://ncw210data/NewClusterFiles/chartdatafiles/chart_cluster_data_8_1.csv to ../chartdatafiles/chart_cluster_data_8_1.csv\n",
      "download: s3://ncw210data/NewClusterFiles/chartdatafiles/chart_cluster_data_7_9.csv to ../chartdatafiles/chart_cluster_data_7_9.csv\n",
      "download: s3://ncw210data/NewClusterFiles/chartdatafiles/chart_cluster_data_8_3.csv to ../chartdatafiles/chart_cluster_data_8_3.csv\n",
      "download: s3://ncw210data/NewClusterFiles/chartdatafiles/chart_cluster_data_7_8.csv to ../chartdatafiles/chart_cluster_data_7_8.csv\n",
      "download: s3://ncw210data/NewClusterFiles/chartdatafiles/chart_cluster_data_8_5.csv to ../chartdatafiles/chart_cluster_data_8_5.csv\n",
      "download: s3://ncw210data/NewClusterFiles/chartdatafiles/chart_cluster_data_8_6.csv to ../chartdatafiles/chart_cluster_data_8_6.csv\n",
      "download: s3://ncw210data/NewClusterFiles/chartdatafiles/chart_cluster_data_8_7.csv to ../chartdatafiles/chart_cluster_data_8_7.csv\n",
      "download: s3://ncw210data/NewClusterFiles/chartdatafiles/chart_cluster_data_8_8.csv to ../chartdatafiles/chart_cluster_data_8_8.csv\n",
      "download: s3://ncw210data/NewClusterFiles/chartdatafiles/chart_cluster_data_8_4.csv to ../chartdatafiles/chart_cluster_data_8_4.csv\n",
      "download: s3://ncw210data/NewClusterFiles/chartdatafiles/chart_cluster_data_9_1.csv to ../chartdatafiles/chart_cluster_data_9_1.csv\n",
      "download: s3://ncw210data/NewClusterFiles/chartdatafiles/chart_cluster_data_9_3.csv to ../chartdatafiles/chart_cluster_data_9_3.csv\n",
      "download: s3://ncw210data/NewClusterFiles/chartdatafiles/chart_cluster_data_9_4.csv to ../chartdatafiles/chart_cluster_data_9_4.csv\n",
      "download: s3://ncw210data/NewClusterFiles/chartdatafiles/chart_cluster_data_8_9.csv to ../chartdatafiles/chart_cluster_data_8_9.csv\n",
      "download: s3://ncw210data/NewClusterFiles/chartdatafiles/chart_cluster_data_9_2.csv to ../chartdatafiles/chart_cluster_data_9_2.csv\n",
      "download: s3://ncw210data/NewClusterFiles/chartdatafiles/chart_cluster_data_9_5.csv to ../chartdatafiles/chart_cluster_data_9_5.csv\n",
      "download: s3://ncw210data/NewClusterFiles/chartdatafiles/chart_cluster_data_9_0.csv to ../chartdatafiles/chart_cluster_data_9_0.csv\n",
      "download: s3://ncw210data/NewClusterFiles/chartdatafiles/chart_cluster_data_9_6.csv to ../chartdatafiles/chart_cluster_data_9_6.csv\n",
      "download: s3://ncw210data/NewClusterFiles/chartdatafiles/chart_cluster_data_9_7.csv to ../chartdatafiles/chart_cluster_data_9_7.csv\n",
      "download: s3://ncw210data/NewClusterFiles/chartdatafiles/chart_cluster_data_9_8.csv to ../chartdatafiles/chart_cluster_data_9_8.csv\n",
      "download: s3://ncw210data/NewClusterFiles/chartdatafiles/chart_cluster_data_all_years.csv to ../chartdatafiles/chart_cluster_data_all_years.csv\n",
      "download: s3://ncw210data/NewClusterFiles/chartdatafiles/chart_cluster_data_9_9.csv to ../chartdatafiles/chart_cluster_data_9_9.csv\n"
     ]
    }
   ],
   "source": [
    "!aws s3 cp s3://ncw210data/NewClusterFiles/chartdatafiles/ '/Users/linfangyang/Documents/GitHub/W210CapstoneProject/static/data/chartdatafiles' --recursive"
   ]
  },
  {
   "cell_type": "code",
   "execution_count": 5,
   "metadata": {},
   "outputs": [
    {
     "name": "stdout",
     "output_type": "stream",
     "text": [
      "download: s3://ncw210data/NewClusterFiles/topics/topics_1.csv to ./topics_1.csv\n",
      "download: s3://ncw210data/NewClusterFiles/topics/topics_3.csv to ./topics_3.csv\n",
      "download: s3://ncw210data/NewClusterFiles/topics/topics_7.csv to ./topics_7.csv\n",
      "download: s3://ncw210data/NewClusterFiles/topics/topics_6.csv to ./topics_6.csv\n",
      "download: s3://ncw210data/NewClusterFiles/topics/topics_9.csv to ./topics_9.csv\n",
      "download: s3://ncw210data/NewClusterFiles/topics/topics_0.csv to ./topics_0.csv\n",
      "download: s3://ncw210data/NewClusterFiles/topics/topics_5.csv to ./topics_5.csv\n",
      "download: s3://ncw210data/NewClusterFiles/topics/topics_8.csv to ./topics_8.csv\n",
      "download: s3://ncw210data/NewClusterFiles/topics/topics_2.csv to ./topics_2.csv\n",
      "download: s3://ncw210data/NewClusterFiles/topics/topics_4.csv to ./topics_4.csv\n",
      "download: s3://ncw210data/NewClusterFiles/topics/topics_X.csv to ./topics_X.csv\n"
     ]
    }
   ],
   "source": [
    "#all file name should be lower case, if you see file name that's not, please update it to lower case, such x.csv not X.csv \n",
    "!aws s3 cp s3://ncw210data/NewClusterFiles/topics/ '/Users/linfangyang/Documents/GitHub/W210CapstoneProject/static/data/topics' --recursive"
   ]
  },
  {
   "cell_type": "code",
   "execution_count": 7,
   "metadata": {},
   "outputs": [
    {
     "data": {
      "text/plain": [
       "'summary_x1_400.csv'"
      ]
     },
     "execution_count": 7,
     "metadata": {},
     "output_type": "execute_result"
    }
   ],
   "source": [
    "createTitleSummaryFile('x1', 400)"
   ]
  },
  {
   "cell_type": "code",
   "execution_count": null,
   "metadata": {
    "collapsed": true
   },
   "outputs": [],
   "source": []
  }
 ],
 "metadata": {
  "anaconda-cloud": {},
  "kernelspec": {
   "display_name": "Python 3",
   "language": "python",
   "name": "python3"
  },
  "language_info": {
   "codemirror_mode": {
    "name": "ipython",
    "version": 3
   },
   "file_extension": ".py",
   "mimetype": "text/x-python",
   "name": "python",
   "nbconvert_exporter": "python",
   "pygments_lexer": "ipython3",
   "version": "3.6.2"
  }
 },
 "nbformat": 4,
 "nbformat_minor": 2
}
